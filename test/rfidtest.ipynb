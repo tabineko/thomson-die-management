{
 "metadata": {
  "language_info": {
   "codemirror_mode": {
    "name": "ipython",
    "version": 3
   },
   "file_extension": ".py",
   "mimetype": "text/x-python",
   "name": "python",
   "nbconvert_exporter": "python",
   "pygments_lexer": "ipython3",
   "version": "3.9.0-final"
  },
  "orig_nbformat": 2,
  "kernelspec": {
   "name": "python3",
   "display_name": "Python 3.9.0 64-bit ('venv')",
   "metadata": {
    "interpreter": {
     "hash": "2304453301c22075f6448df796da8fbcda3c797d23002eba330785f299791f4f"
    }
   }
  }
 },
 "nbformat": 4,
 "nbformat_minor": 2,
 "cells": [
  {
   "cell_type": "code",
   "execution_count": 1,
   "metadata": {},
   "outputs": [],
   "source": [
    "CMD_READ          = 0x01   # Read data from specified address, valid locations 1 to 33 (5)\n",
    "CMD_WRITE         = 0x02   # Write data to specified address, valid locations 3 to 31 (1)\n",
    "CMD_LOGIN         = 0x03   # Login to tag with password (1)\n",
    "CMD_SETPASS       = 0x04   # Change tag's password from old to new (1)\n",
    "CMD_PROTECT       = 0x05   # Enable/disable password protection (1)\n",
    "CMD_RESET         = 0x06   # Reset tag (1)\n",
    "CMD_READ_LEGACY   = 0x0F   # Read unique ID from EM4102 read-only tag (for backwards compatibility w/ Parallax RFID Card Reader, #28140 and #28340) (12)\n",
    "\n",
    "# Memory map/address locations for EM4x50 tag\n",
    "# Each address holds/returns a 32-bit (4 byte) value\n",
    "ADDR_PASSWORD     = 0      # Password (not readable)\n",
    "ADDR_PROTECT      = 1      # Protection Word\n",
    "ADDR_CONTROL      = 2      # Control Word\n",
    "# ADDR 3-31 are User EEPROM area\n",
    "ADDR_SERIAL      = 32      # Device Serial Number\n",
    "ADDR_DEVICEID    = 33      # Device Identification\n",
    "\n",
    "# Status/error return codes\n",
    "ERR_OK           = 0x01    # No errors\n",
    "ERR_LIW          = 0x02    # Did not find a listen window\n",
    "ERR_NAK          = 0x03    # Received a NAK, could be invalid command\n",
    "ERR_NAK_OLDPW    = 0x04    # Received a NAK sending old password (CMD_SETPASS), could be incorrect password\n",
    "ERR_NAK_NEWPW    = 0x05    # Received a NAK sending new password (CMD_SETPASS)\n",
    "ERR_LIW_NEWPW    = 0x06    # Did not find a listen window after setting new password (CMD_SETPASS)\n",
    "ERR_PARITY       = 0x07    # Parity error when reading data\n"
   ]
  },
  {
   "cell_type": "code",
   "execution_count": 2,
   "metadata": {},
   "outputs": [],
   "source": [
    "import os\n",
    "import sys\n",
    "import serial  # http://pyserial.sourceforge.net/\n",
    "import time"
   ]
  },
  {
   "cell_type": "code",
   "execution_count": 3,
   "metadata": {},
   "outputs": [
    {
     "output_type": "execute_result",
     "data": {
      "text/plain": [
       "b'!RW\\x01 '"
      ]
     },
     "metadata": {},
     "execution_count": 3
    }
   ],
   "source": [
    "print(('!RW' + chr(CMD_READ) + chr(ADDR_SERIAL)).encode())"
   ]
  },
  {
   "cell_type": "code",
   "execution_count": 4,
   "metadata": {},
   "outputs": [
    {
     "output_type": "execute_result",
     "data": {
      "text/plain": [
       "'\\x01'"
      ]
     },
     "metadata": {},
     "execution_count": 4
    }
   ],
   "source": [
    "chr(CMD_READ)"
   ]
  },
  {
   "cell_type": "code",
   "execution_count": 5,
   "metadata": {},
   "outputs": [
    {
     "output_type": "execute_result",
     "data": {
      "text/plain": [
       "' '"
      ]
     },
     "metadata": {},
     "execution_count": 5
    }
   ],
   "source": [
    "chr(ADDR_SERIAL)"
   ]
  }
 ]
}